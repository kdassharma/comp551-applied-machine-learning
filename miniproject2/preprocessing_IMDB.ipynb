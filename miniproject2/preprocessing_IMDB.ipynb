{
 "cells": [
  {
   "cell_type": "code",
   "execution_count": 1,
   "metadata": {},
   "outputs": [],
   "source": [
    "import sklearn as sk\n",
    "from sklearn.naive_bayes import MultinomialNB\n",
    "from sklearn.feature_extraction.text import CountVectorizer\n",
    "from sklearn.feature_extraction.text import TfidfTransformer\n",
    "from sklearn.linear_model import LogisticRegression\n",
    "from sklearn.model_selection import cross_val_score\n",
    "from sklearn.model_selection import GridSearchCV\n",
    "from sklearn.tree import DecisionTreeClassifier\n",
    "from sklearn.svm import LinearSVC\n",
    "from sklearn.ensemble import RandomForestClassifier\n",
    "from sklearn.pipeline import Pipeline\n",
    "from sklearn.ensemble import AdaBoostClassifier\n",
    "import pandas as pd\n",
    "import numpy as np\n",
    "import seaborn as sns\n",
    "import os"
   ]
  },
  {
   "cell_type": "markdown",
   "metadata": {},
   "source": [
    "# Methods for pre-processing"
   ]
  },
  {
   "cell_type": "code",
   "execution_count": 2,
   "metadata": {},
   "outputs": [],
   "source": [
    "def computeTrainScore(filename,dict):\n",
    "    result = []\n",
    "    with open('/Users/kdassharma1/Documents/GitHub/aclImdb/train/neg/'+filename, 'r') as file:\n",
    "        data = file.read().replace('\\n', '')\n",
    "        data = data.replace('<br />','')\n",
    "        data = data.replace('.',' ')\n",
    "        data = data.replace(',',' ')\n",
    "        result = data.split(\" \")\n",
    "    score = 0\n",
    "    for word in result:\n",
    "        if word.lower() in dict:\n",
    "            score += dict[word.lower()]\n",
    "    return score"
   ]
  },
  {
   "cell_type": "code",
   "execution_count": 3,
   "metadata": {},
   "outputs": [],
   "source": [
    "def filterAndCombine(directoryNeg, directoryPos):\n",
    "    outputX = []\n",
    "    outputY = []\n",
    "    for filename in os.listdir(directoryNeg):\n",
    "        with open(''+directoryNeg+'/'+filename, 'r') as file:\n",
    "            data = file.read().replace('\\n', '')\n",
    "            data = data.replace('<br />','')\n",
    "            data = data.replace('.',' ')\n",
    "            data = data.replace(',',' ')\n",
    "            #result = data.split(\" \")\n",
    "            outputX.append(data)\n",
    "            outputY.append(findRating(filename))\n",
    "    for filename in os.listdir(directoryPos):\n",
    "        with open(''+directoryPos+'/'+filename, 'r') as file:\n",
    "            data = file.read().replace('\\n', '')\n",
    "            data = data.replace('<br />','')\n",
    "            data = data.replace('.',' ')\n",
    "            data = data.replace(',',' ')\n",
    "            #result = data.split(\" \")\n",
    "            outputX.append(data)\n",
    "            outputY.append(findRating(filename))\n",
    "            \n",
    "    return outputX,outputY\n",
    "        "
   ]
  },
  {
   "cell_type": "code",
   "execution_count": 4,
   "metadata": {},
   "outputs": [],
   "source": [
    "def findRating(filename):\n",
    "    start = filename.find('_')\n",
    "    end = filename.find('.')\n",
    "#   return filename[start+1:end]\n",
    "    if (int)(filename[start+1:end]) <= 4:\n",
    "        return 0\n",
    "    else:\n",
    "        return 1"
   ]
  },
  {
   "cell_type": "code",
   "execution_count": 5,
   "metadata": {},
   "outputs": [],
   "source": [
    "vectorizer = CountVectorizer(strip_accents= 'ascii', lowercase = True, stop_words = 'english')\n",
    "# vectorizer = CountVectorizer()\n",
    "\n",
    "list_of_reviews , list_of_ratings = filterAndCombine('/Users/kdassharma1/Documents/GitHub/aclImdb/train/neg',\n",
    "                                                     '/Users/kdassharma1/Documents/GitHub/aclImdb/train/pos')\n",
    "X_train = vectorizer.fit_transform(list_of_reviews)\n",
    "\n",
    "tfidf_transformer = TfidfTransformer()\n",
    "X_train_tfidf = tfidf_transformer.fit_transform(X_train)\n",
    "Y_train = np.asarray(list_of_ratings, dtype=np.int32)\n",
    "\n",
    "list_of_reviews_test , list_of_ratings_test = filterAndCombine('/Users/kdassharma1/Documents/GitHub/aclImdb/test/neg',\n",
    "                                                              '/Users/kdassharma1/Documents/GitHub/aclImdb/test/pos')\n",
    "X_test = vectorizer.transform(list_of_reviews_test)\n",
    "\n",
    "tfidf_transformer_test = TfidfTransformer()\n",
    "X_test_tfidf = tfidf_transformer_test.fit_transform(X_test)\n",
    "Y_test = np.asarray(list_of_ratings_test, dtype=np.int32)"
   ]
  },
  {
   "cell_type": "markdown",
   "metadata": {},
   "source": [
    "# Multinomial Naive Bayes"
   ]
  },
  {
   "cell_type": "code",
   "execution_count": null,
   "metadata": {},
   "outputs": [],
   "source": [
    "clf_NB = MultinomialNB().fit(X_train_tfidf, Y_train)"
   ]
  },
  {
   "cell_type": "code",
   "execution_count": null,
   "metadata": {},
   "outputs": [],
   "source": [
    "predicted_NB = clf_NB.predict(X_test_tfidf)\n",
    "np.mean(predicted == Y_test)"
   ]
  },
  {
   "cell_type": "markdown",
   "metadata": {},
   "source": [
    "# Logistic Regression"
   ]
  },
  {
   "cell_type": "code",
   "execution_count": 6,
   "metadata": {},
   "outputs": [
    {
     "name": "stderr",
     "output_type": "stream",
     "text": [
      "//anaconda3/lib/python3.7/site-packages/sklearn/linear_model/logistic.py:432: FutureWarning: Default solver will be changed to 'lbfgs' in 0.22. Specify a solver to silence this warning.\n",
      "  FutureWarning)\n"
     ]
    }
   ],
   "source": [
    "clf_LR = LogisticRegression().fit(X_train_tfidf, Y_train)"
   ]
  },
  {
   "cell_type": "code",
   "execution_count": 8,
   "metadata": {},
   "outputs": [
    {
     "data": {
      "text/plain": [
       "0.88004"
      ]
     },
     "execution_count": 8,
     "metadata": {},
     "output_type": "execute_result"
    }
   ],
   "source": [
    "predicted_LR = clf_LR.predict(X_test_tfidf)\n",
    "np.mean(predicted_LR == Y_test)"
   ]
  },
  {
   "cell_type": "markdown",
   "metadata": {},
   "source": [
    "# Decision Tree "
   ]
  },
  {
   "cell_type": "code",
   "execution_count": 9,
   "metadata": {},
   "outputs": [],
   "source": [
    "clf_DT = DecisionTreeClassifier().fit(X_train_tfidf, Y_train)"
   ]
  },
  {
   "cell_type": "code",
   "execution_count": 10,
   "metadata": {},
   "outputs": [
    {
     "data": {
      "text/plain": [
       "0.70816"
      ]
     },
     "execution_count": 10,
     "metadata": {},
     "output_type": "execute_result"
    }
   ],
   "source": [
    "predicted_DT = clf_DT.predict(X_test_tfidf)\n",
    "np.mean(predicted_DT == Y_test)"
   ]
  },
  {
   "cell_type": "markdown",
   "metadata": {},
   "source": [
    "# Support Vector Machine"
   ]
  },
  {
   "cell_type": "code",
   "execution_count": 11,
   "metadata": {},
   "outputs": [],
   "source": [
    "clf_SVM = LinearSVC().fit(X_train_tfidf, Y_train)"
   ]
  },
  {
   "cell_type": "code",
   "execution_count": 12,
   "metadata": {},
   "outputs": [
    {
     "data": {
      "text/plain": [
       "0.86512"
      ]
     },
     "execution_count": 12,
     "metadata": {},
     "output_type": "execute_result"
    }
   ],
   "source": [
    "predicted_SVM = clf_SVM.predict(X_test_tfidf)\n",
    "np.mean(predicted_SVM == Y_test)"
   ]
  },
  {
   "cell_type": "markdown",
   "metadata": {},
   "source": [
    "# Ada Boost"
   ]
  },
  {
   "cell_type": "code",
   "execution_count": 13,
   "metadata": {},
   "outputs": [],
   "source": [
    "clf_AB = AdaBoostClassifier().fit(X_train_tfidf, Y_train)"
   ]
  },
  {
   "cell_type": "code",
   "execution_count": 14,
   "metadata": {},
   "outputs": [
    {
     "data": {
      "text/plain": [
       "0.80088"
      ]
     },
     "execution_count": 14,
     "metadata": {},
     "output_type": "execute_result"
    }
   ],
   "source": [
    "predicted_AB = clf_AB.predict(X_test_tfidf)\n",
    "np.mean(predicted_AB == Y_test)"
   ]
  },
  {
   "cell_type": "markdown",
   "metadata": {},
   "source": [
    "# Random Forest"
   ]
  },
  {
   "cell_type": "code",
   "execution_count": null,
   "metadata": {},
   "outputs": [],
   "source": [
    "clf_RF = RandomForestClassifier()().fit(X_train_tfidf, Y_train)"
   ]
  },
  {
   "cell_type": "code",
   "execution_count": null,
   "metadata": {},
   "outputs": [],
   "source": [
    "predicted_RF = clf_RF.predict(X_test_tfidf)\n",
    "np.mean(predicted_RF == Y_test)"
   ]
  }
 ],
 "metadata": {
  "kernelspec": {
   "display_name": "Python 3",
   "language": "python",
   "name": "python3"
  },
  "language_info": {
   "codemirror_mode": {
    "name": "ipython",
    "version": 3
   },
   "file_extension": ".py",
   "mimetype": "text/x-python",
   "name": "python",
   "nbconvert_exporter": "python",
   "pygments_lexer": "ipython3",
   "version": "3.7.3"
  }
 },
 "nbformat": 4,
 "nbformat_minor": 2
}
