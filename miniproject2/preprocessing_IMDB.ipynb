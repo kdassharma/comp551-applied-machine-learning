{
 "cells": [
  {
   "cell_type": "code",
   "execution_count": null,
   "metadata": {},
   "outputs": [],
   "source": [
    "import pandas as pd\n",
    "import numpy as np\n",
    "import seaborn as sns\n",
    "import sklearn as sklearn\n",
    "import os"
   ]
  },
  {
   "cell_type": "code",
   "execution_count": null,
   "metadata": {},
   "outputs": [],
   "source": [
    "def computeScore(filename,dict):\n",
    "    result = []\n",
    "    with open('/Users/kdassharma1/Documents/GitHub/comp551-applied-machine-learning/miniproject2/aclImdb/train/neg/'+filename, 'r') as file:\n",
    "        data = file.read().replace('\\n', '')\n",
    "        data = data.replace('<br />','')\n",
    "        data = data.replace('.',' ')\n",
    "        data = data.replace(',',' ')\n",
    "        result = data.split(\" \")\n",
    "    score = 0\n",
    "    for word in result:\n",
    "        if word.lower() in dict:\n",
    "            score += dict[word.lower()]\n",
    "    return score"
   ]
  },
  {
   "cell_type": "code",
   "execution_count": null,
   "metadata": {},
   "outputs": [],
   "source": [
    "def findRating(filename):\n",
    "    start = filename.find('_')\n",
    "    end = filename.find('.')\n",
    "    return filename[start+1:end]\n"
   ]
  },
  {
   "cell_type": "code",
   "execution_count": null,
   "metadata": {},
   "outputs": [],
   "source": [
    "wordsFile = '/Users/kdassharma1/Documents/GitHub/comp551-applied-machine-learning/miniproject2/aclImdb/imdb.txt'\n",
    "scoresFile = '/Users/kdassharma1/Documents/GitHub/comp551-applied-machine-learning/miniproject2/aclImdb/imdbEr.txt'\n",
    "dict = {}\n",
    "with open(wordsFile) as file1, open(scoresFile) as file2:\n",
    "    for line1, line2 in zip(file1, file2):\n",
    "        dict[line1.replace(\"\\n\",\"\")] = (float)(line2)\n",
    "\n",
    "column_names = ['score_Tally','rating']\n",
    "dataset = pd.DataFrame(columns = column_names)\n",
    "for filename in os.listdir('/Users/kdassharma1/Documents/GitHub/comp551-applied-machine-learning/miniproject2/aclImdb/train/neg'):\n",
    "    row = pd.DataFrame({\"score_Tally\":[computeScore(filename,dict)], \"rating\":[findRating(filename)]}) \n",
    "    dataset = dataset.append(row)\n",
    "    \n",
    "print(dataset)"
   ]
  },
  {
   "cell_type": "code",
   "execution_count": null,
   "metadata": {},
   "outputs": [],
   "source": []
  }
 ],
 "metadata": {
  "kernelspec": {
   "display_name": "Python 3",
   "language": "python",
   "name": "python3"
  },
  "language_info": {
   "codemirror_mode": {
    "name": "ipython",
    "version": 3
   },
   "file_extension": ".py",
   "mimetype": "text/x-python",
   "name": "python",
   "nbconvert_exporter": "python",
   "pygments_lexer": "ipython3",
   "version": "3.7.3"
  }
 },
 "nbformat": 4,
 "nbformat_minor": 2
}
