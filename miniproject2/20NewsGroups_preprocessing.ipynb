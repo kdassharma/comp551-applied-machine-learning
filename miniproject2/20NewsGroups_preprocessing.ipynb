{
 "cells": [
  {
   "cell_type": "code",
   "execution_count": null,
   "metadata": {},
   "outputs": [],
   "source": [
    "import sklearn as sk\n",
    "from sklearn.model_selection import GridSearchCV\n",
    "from sklearn.datasets import fetch_20newsgroups\n",
    "from sklearn.feature_extraction.text import CountVectorizer\n",
    "from sklearn.feature_extraction.text import TfidfTransformer\n",
    "from sklearn.linear_model import LogisticRegression\n",
    "from sklearn.model_selection import cross_val_score\n",
    "from sklearn.tree import DecisionTreeClassifier\n",
    "from sklearn.svm import LinearSVC\n",
    "from sklearn.ensemble import RandomForestClassifier\n",
    "from sklearn.pipeline import Pipeline\n",
    "from sklearn.ensemble import AdaBoostClassifier\n",
    "from sklearn.naive_bayes import MultinomialNB\n",
    "import pandas as pd\n",
    "import numpy as np\n",
    "import seaborn as sns"
   ]
  },
  {
   "cell_type": "markdown",
   "metadata": {},
   "source": [
    "<h1> Preproccessing </h1> "
   ]
  },
  {
   "cell_type": "code",
   "execution_count": null,
   "metadata": {},
   "outputs": [],
   "source": [
    "#Fetching the dataset\n",
    "news_groups = fetch_20newsgroups(subset='train',remove=(['headers', 'footers', 'quotes']),shuffle=True, random_state=42)"
   ]
  },
  {
   "cell_type": "code",
   "execution_count": null,
   "metadata": {},
   "outputs": [],
   "source": [
    "#intializing count vectorizer\n",
    "count_vect = CountVectorizer()"
   ]
  },
  {
   "cell_type": "code",
   "execution_count": null,
   "metadata": {},
   "outputs": [],
   "source": [
    "#vectorizes our data set\n",
    "X_train_counts = count_vect.fit_transform(news_groups.data)"
   ]
  },
  {
   "cell_type": "code",
   "execution_count": null,
   "metadata": {},
   "outputs": [],
   "source": [
    "#tf (term frequency) check each document and calculates for each word its frequency in the document \n",
    "#idf (inverse document frequency) accounts for the fact that \n",
    "#words that are in many documents are less useful and gives them lower weights making more accurate calculations ideally"
   ]
  },
  {
   "cell_type": "code",
   "execution_count": null,
   "metadata": {},
   "outputs": [],
   "source": [
    "#Here we are tranforming our vectors to frequencies\n",
    "tfidf_transformer = TfidfTransformer(use_idf=True).fit(X_train_counts)\n",
    "X_train_tf_idf = tfidf_transformer.transform(X_train_counts)\n",
    "X_train_tf_idf.shape"
   ]
  },
  {
   "cell_type": "markdown",
   "metadata": {},
   "source": [
    "<h1> Logistic Regression Classifier </h1>"
   ]
  },
  {
   "cell_type": "code",
   "execution_count": null,
   "metadata": {},
   "outputs": [],
   "source": [
    "parameters = {\n",
    "        'C' : [0.5, 1.0, 1.5, 2],\n",
    "        'tol' : [1e-3, 1e-4, 1e-5]\n",
    "             }\n",
    "gs_clf = GridSearchCV(LogisticRegression(), parameters, n_jobs=-1, verbose=10, cv=3)\n",
    "gs_clf = gs_clf.fit(X_train_tf_idf, news_groups.target)\n",
    "print(gs_clf.best_score_)\n",
    "print(gs_clf.best_params_)"
   ]
  },
  {
   "cell_type": "code",
   "execution_count": null,
   "metadata": {},
   "outputs": [],
   "source": [
    "#initializing a pipeline in order to make the vectorizer to tranformer to classifier easier to work with \n",
    "text_clf = Pipeline([\n",
    "('vect', CountVectorizer(stop_words='english')),\n",
    "('tfidf', TfidfTransformer()),\n",
    "('clf', LogisticRegression(random_state=0,solver='saga', C=8)),\n",
    "])"
   ]
  },
  {
   "cell_type": "code",
   "execution_count": null,
   "metadata": {},
   "outputs": [],
   "source": [
    "#fitting our pipeline with news_groups data \n",
    "text_clf.fit(news_groups.data, news_groups.target)"
   ]
  },
  {
   "cell_type": "code",
   "execution_count": null,
   "metadata": {},
   "outputs": [],
   "source": [
    "#This block is testing our classifiers \n",
    "twenty_test = fetch_20newsgroups(subset='test',remove=(['headers', 'footers', 'quotes']),shuffle=True, random_state=42)\n",
    "docs_test = twenty_test.data\n",
    "predicted = text_clf.predict(docs_test)\n",
    "np.mean(predicted == twenty_test.target)\n"
   ]
  },
  {
   "cell_type": "markdown",
   "metadata": {},
   "source": [
    "<h1> Decsion Tree Classifier </h1> "
   ]
  },
  {
   "cell_type": "code",
   "execution_count": null,
   "metadata": {},
   "outputs": [],
   "source": [
    "parameters = {\n",
    "        'ccp_alpha' : [0.0, .01,.02,.03,.04,.05,.06,.07,.08,.09]\n",
    "             }\n",
    "gs_clf = GridSearchCV(DecisionTreeClassifier(), parameters, n_jobs=-1)\n",
    "gs_clf = gs_clf.fit(X_train_tf_idf, news_groups.target)\n",
    "print(gs_clf.best_score_)\n",
    "print(gs_clf.best_params_)"
   ]
  },
  {
   "cell_type": "code",
   "execution_count": null,
   "metadata": {},
   "outputs": [],
   "source": [
    "#initializing a pipeline in order to make the vectorizer to tranformer to classifier easier to work with \n",
    "text_clf_DTC = Pipeline([\n",
    "('vect', CountVectorizer(stop_words='english')),\n",
    "('tfidf', TfidfTransformer()),\n",
    "('clf_DTC', DecisionTreeClassifier(random_state=0, max_depth = 500, min_samples_split = 170))\n",
    "])"
   ]
  },
  {
   "cell_type": "code",
   "execution_count": null,
   "metadata": {},
   "outputs": [],
   "source": [
    "#fitting our pipeline with news_groups data \n",
    "text_clf_DTC.fit(news_groups.data, news_groups.target)"
   ]
  },
  {
   "cell_type": "code",
   "execution_count": null,
   "metadata": {},
   "outputs": [],
   "source": [
    "#This block is testing our classifiers \n",
    "twenty_test = fetch_20newsgroups(subset='test',remove=(['headers', 'footers', 'quotes']),shuffle=True, random_state=42)\n",
    "docs_test = twenty_test.data\n",
    "predicted = text_clf_DTC.predict(docs_test)\n",
    "np.mean(predicted == twenty_test.target)\n"
   ]
  },
  {
   "cell_type": "markdown",
   "metadata": {},
   "source": [
    "<h1> Support Vector Machine Classifier </h1> "
   ]
  },
  {
   "cell_type": "code",
   "execution_count": null,
   "metadata": {},
   "outputs": [],
   "source": [
    "parameters = {\n",
    "        'tol' : [1,1e-1,1e-2,1e-3,1e-4],\n",
    "        'C' : [1,2,4],\n",
    "             }\n",
    "gs_clf = GridSearchCV(LinearSVC(), parameters, n_jobs=-1, verbose=10)\n",
    "gs_clf = gs_clf.fit(X_train_tf_idf, news_groups.target)\n",
    "print(gs_clf.best_score_)\n",
    "print(gs_clf.best_params_)"
   ]
  },
  {
   "cell_type": "code",
   "execution_count": null,
   "metadata": {},
   "outputs": [],
   "source": [
    "#initializing a pipeline in order to make the vectorizer to tranformer to classifier easier to work with \n",
    "text_clf_SVM = Pipeline([\n",
    "('vect', CountVectorizer(ngram_range =(1,2))),\n",
    "('tfidf', TfidfTransformer()),\n",
    "('clf', LinearSVC(tol=1e-1, loss='hinge', penalty='l2', C=1)),\n",
    "])"
   ]
  },
  {
   "cell_type": "code",
   "execution_count": null,
   "metadata": {},
   "outputs": [],
   "source": [
    "text_clf_SVM.fit(news_groups.data, news_groups.target)"
   ]
  },
  {
   "cell_type": "code",
   "execution_count": null,
   "metadata": {},
   "outputs": [],
   "source": [
    "#This block is testing our classifiers \n",
    "twenty_test = fetch_20newsgroups(subset='test',remove=(['headers', 'footers', 'quotes']),shuffle=True, random_state=42)\n",
    "docs_test = twenty_test.data\n",
    "predicted = text_clf_SVM.predict(docs_test)\n",
    "np.mean(predicted == twenty_test.target)"
   ]
  },
  {
   "cell_type": "markdown",
   "metadata": {},
   "source": [
    "<h1> Ada boost Classifier </h1> "
   ]
  },
  {
   "cell_type": "code",
   "execution_count": null,
   "metadata": {},
   "outputs": [],
   "source": [
    "parameters = {\n",
    "        'n_estimators' : [100, 200, 5]\n",
    "             }\n",
    "gs_clf = GridSearchCV(AdaBoostClassifier(), parameters, n_jobs=-1)\n",
    "gs_clf = gs_clf.fit(X_train_tf_idf, news_groups.target)\n",
    "print(gs_clf.best_score_)\n",
    "print(gs_clf.best_params_)"
   ]
  },
  {
   "cell_type": "code",
   "execution_count": null,
   "metadata": {},
   "outputs": [],
   "source": [
    "#initializing a pipeline in order to make the vectorizer to tranformer to classifier easier to work with \n",
    "text_clf_ADA = Pipeline([\n",
    "('vect', CountVectorizer()),\n",
    "('tfidf', TfidfTransformer()),\n",
    "('clf_DTC', AdaBoostClassifier( random_state=0, n_estimators = 150) )\n",
    "])"
   ]
  },
  {
   "cell_type": "code",
   "execution_count": null,
   "metadata": {},
   "outputs": [],
   "source": [
    "#fitting our pipeline with news_groups data \n",
    "text_clf_ADA.fit(news_groups.data, news_groups.target)"
   ]
  },
  {
   "cell_type": "code",
   "execution_count": null,
   "metadata": {},
   "outputs": [],
   "source": [
    "#This block is testing our classifiers \n",
    "twenty_test = fetch_20newsgroups(subset='test',remove=(['headers', 'footers', 'quotes']),shuffle=True, random_state=42)\n",
    "docs_test = twenty_test.data\n",
    "predicted = text_clf_ADA.predict(docs_test)\n",
    "np.mean(predicted == twenty_test.target)"
   ]
  },
  {
   "cell_type": "markdown",
   "metadata": {},
   "source": [
    "<h1> Random Forest Classifier </h1> "
   ]
  },
  {
   "cell_type": "code",
   "execution_count": null,
   "metadata": {},
   "outputs": [],
   "source": [
    "parameters = {\n",
    " 'max_depth': [10, 50, 100],\n",
    " 'criterion': ['gini', 'entropy'],\n",
    " 'n_estimators': [100,500, 1000]\n",
    "\n",
    "}\n",
    "gs_clf = GridSearchCV(RandomForestClassifier(), parameters, n_jobs=20,verbose=10)\n",
    "gs_clf = gs_clf.fit(X_train_tf_idf, news_groups.target)\n",
    "print(gs_clf.best_score_)\n",
    "print(gs_clf.best_params_)"
   ]
  },
  {
   "cell_type": "code",
   "execution_count": null,
   "metadata": {},
   "outputs": [],
   "source": [
    "DecisionTreeClassifier().get_params().keys()"
   ]
  },
  {
   "cell_type": "code",
   "execution_count": null,
   "metadata": {},
   "outputs": [],
   "source": [
    "#initializing a pipeline in order to make the vectorizer to tranformer to classifier easier to work with \n",
    "text_clf_RF = Pipeline([\n",
    "('vect', CountVectorizer(stop_words='english')),\n",
    "('tfidf', TfidfTransformer()),\n",
    "('clf', RandomForestClassifier(n_estimators=500, criterion = 'gini', max_depth = 600)),\n",
    "])\n"
   ]
  },
  {
   "cell_type": "code",
   "execution_count": null,
   "metadata": {},
   "outputs": [],
   "source": [
    "text_clf_RF.fit(news_groups.data, news_groups.target)"
   ]
  },
  {
   "cell_type": "code",
   "execution_count": null,
   "metadata": {},
   "outputs": [],
   "source": [
    "#This block is testing our classifiers \n",
    "twenty_test = fetch_20newsgroups(subset='test',remove=(['headers', 'footers', 'quotes']),shuffle=True, random_state=42)\n",
    "docs_test = twenty_test.data\n",
    "predicted = text_clf_RF.predict(docs_test)\n",
    "np.mean(predicted == twenty_test.target)"
   ]
  },
  {
   "cell_type": "markdown",
   "metadata": {},
   "source": [
    "<h1> Multinomial Bayes </h1> \n"
   ]
  },
  {
   "cell_type": "code",
   "execution_count": null,
   "metadata": {},
   "outputs": [],
   "source": [
    "parameters = {\n",
    "              'alpha': (1e-1,1e-2, 1e-3,1e-4,1),\n",
    "              'fit_prior': (True,False)\n",
    "             }\n",
    "gs_clf = GridSearchCV(MultinomialNB(), parameters, n_jobs=-1)\n",
    "gs_clf = gs_clf.fit(X_train_tf_idf, news_groups.target)\n",
    "print(gs_clf.best_score_)\n",
    "print(gs_clf.best_params_)"
   ]
  },
  {
   "cell_type": "code",
   "execution_count": null,
   "metadata": {},
   "outputs": [],
   "source": [
    "#initializing a pipeline with the parameters\n",
    "text_clf_MNB = Pipeline([\n",
    "('vect', CountVectorizer(stop_words='english', ngram_range = (1,2))),\n",
    "('tfidf', TfidfTransformer(use_idf = True)),\n",
    "('clf', MultinomialNB(alpha = 0.01, fit_prior = False)),\n",
    "])"
   ]
  },
  {
   "cell_type": "code",
   "execution_count": null,
   "metadata": {},
   "outputs": [],
   "source": [
    "text_clf_MNB.fit(news_groups.data, news_groups.target)"
   ]
  },
  {
   "cell_type": "code",
   "execution_count": null,
   "metadata": {},
   "outputs": [],
   "source": [
    "#This block is testing our classifiers \n",
    "twenty_test = fetch_20newsgroups(subset='test',remove=(['headers', 'footers', 'quotes']),shuffle=True, random_state=42)\n",
    "docs_test = twenty_test.data\n",
    "predicted = text_clf_MNB.predict(docs_test)\n",
    "np.mean(predicted == twenty_test.target)"
   ]
  },
  {
   "cell_type": "code",
   "execution_count": null,
   "metadata": {},
   "outputs": [],
   "source": []
  }
 ],
 "metadata": {
  "kernelspec": {
   "display_name": "Python 3",
   "language": "python",
   "name": "python3"
  },
  "language_info": {
   "codemirror_mode": {
    "name": "ipython",
    "version": 3
   },
   "file_extension": ".py",
   "mimetype": "text/x-python",
   "name": "python",
   "nbconvert_exporter": "python",
   "pygments_lexer": "ipython3",
   "version": "3.7.4"
  }
 },
 "nbformat": 4,
 "nbformat_minor": 4
}
