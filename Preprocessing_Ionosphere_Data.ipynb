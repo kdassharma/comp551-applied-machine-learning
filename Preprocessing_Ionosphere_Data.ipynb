{
 "cells": [
  {
   "cell_type": "markdown",
   "metadata": {},
   "source": [
    "<h2> Ionosphere Data </h2>"
   ]
  },
  {
   "cell_type": "code",
   "execution_count": null,
   "metadata": {},
   "outputs": [],
   "source": [
    "import pandas as pd\n",
    "import numpy as np\n",
    "import matplotlib\n",
    "import matplotlib.pyplot as plt\n",
    "import seaborn as sns\n",
    "import csv \n",
    "from collections import defaultdict\n",
    "import re"
   ]
  },
  {
   "cell_type": "code",
   "execution_count": null,
   "metadata": {},
   "outputs": [],
   "source": [
    "#17 pulse numbers in the data set -> they are imaginary so each number is represented by two attributes\n",
    "#So we have 34 continuous predictor columns and a final column classifying if the data is 'good' or 'bad'\n",
    "\n",
    "#here we build the headers\n",
    "headers = []\n",
    "for x in range(1,18):\n",
    "\n",
    "  headers.append('real_val' +str(x))\n",
    "  headers.append('complex_val' + str(x))\n",
    "\n",
    "headers.append('classification')\n",
    "\n",
    "#df is dataframe\n",
    "df_ion = pd.read_csv('./IonosphereDataSet/ionosphere.data',header=None, names = headers)\n",
    "\n",
    "# since there is no missing we can start looking at the data \n",
    "\n",
    "df_ion.head(10)"
   ]
  },
  {
   "cell_type": "code",
   "execution_count": null,
   "metadata": {},
   "outputs": [],
   "source": [
    "#Analyze the data\n",
    "df_ion.describe()"
   ]
  },
  {
   "cell_type": "code",
   "execution_count": null,
   "metadata": {},
   "outputs": [],
   "source": [
    "#After looking at the data we are dropping real_val1 and complex_val1 as the distrobutions are to thin to provide \n",
    "#any helpful data in classification\n",
    "df_ion = df_ion.drop(['real_val1','complex_val1',], axis=1)"
   ]
  },
  {
   "cell_type": "code",
   "execution_count": null,
   "metadata": {},
   "outputs": [],
   "source": [
    "#Checking if features are correlated\n",
    "corr = df_ion.corr()\n",
    "sns.heatmap(corr)"
   ]
  },
  {
   "cell_type": "code",
   "execution_count": null,
   "metadata": {},
   "outputs": [],
   "source": [
    "#no features look correlated enough to be require a drop"
   ]
  },
  {
   "cell_type": "code",
   "execution_count": null,
   "metadata": {},
   "outputs": [],
   "source": [
    "#Changing the lable of 'g' and 'b' to '1' and '0' to be used by classifying methods \n",
    "df_ion['classification'] = df_ion['classification'].apply(lambda x: 1 if (x=='g') else 0)"
   ]
  },
  {
   "cell_type": "code",
   "execution_count": null,
   "metadata": {},
   "outputs": [],
   "source": [
    "#final look at data \n",
    "df_ion.head(10)"
   ]
  },
  {
   "cell_type": "code",
   "execution_count": null,
   "metadata": {},
   "outputs": [],
   "source": [
    "#add distrobution of positive and negative outcomes"
   ]
  }
 ],
 "metadata": {
  "kernelspec": {
   "display_name": "Python 3",
   "language": "python",
   "name": "python3"
  },
  "language_info": {
   "codemirror_mode": {
    "name": "ipython",
    "version": 3
   },
   "file_extension": ".py",
   "mimetype": "text/x-python",
   "name": "python",
   "nbconvert_exporter": "python",
   "pygments_lexer": "ipython3",
   "version": "3.7.4"
  }
 },
 "nbformat": 4,
 "nbformat_minor": 2
}
