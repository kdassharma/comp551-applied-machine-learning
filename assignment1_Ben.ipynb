{
 "cells": [
  {
   "cell_type": "code",
   "execution_count": null,
   "metadata": {},
   "outputs": [],
   "source": [
    "import pandas as pd\n",
    "import numpy as np\n",
    "import matplotlib\n",
    "import matplotlib.pyplot as plt\n",
    "import seaborn as sns\n",
    "import csv \n",
    "from collections import defaultdict\n",
    "import re"
   ]
  },
  {
   "cell_type": "code",
   "execution_count": null,
   "metadata": {},
   "outputs": [],
   "source": [
    "#17 pulse numbers in the data set -> they are imaginary so each number is represented by two attributes\n",
    "#So we have 34 continuous predictor columns and a final column classifying if the data is 'good' or 'bad'\n",
    "\n",
    "#here we build the headers\n",
    "headers = []\n",
    "for x in range(1,18):\n",
    "\n",
    "  headers.append('real_val' +str(x))\n",
    "  headers.append('complex_val' + str(x))\n",
    "\n",
    "headers.append('classification')\n",
    "\n",
    "#df is dataframe\n",
    "df_ion = pd.read_csv('./IonosphereDataSet/ionosphere.data',header=None, names = headers)\n",
    "\n",
    "# since there is no missing we can start looking at the data \n",
    "\n",
    "df_ion.head(10)"
   ]
  },
  {
   "cell_type": "code",
   "execution_count": null,
   "metadata": {},
   "outputs": [],
   "source": [
    "#Analyze the data\n",
    "df_ion.describe()"
   ]
  },
  {
   "cell_type": "code",
   "execution_count": null,
   "metadata": {},
   "outputs": [],
   "source": [
    "#plotting values of complex numbers on a couple 'good' sets\n",
    "# plt.scatter(df_ion.iloc[0][:34:2], df_ion.iloc[0][1:34:2], color=\"green\")\n",
    "# plt.xlabel('real axis')\n",
    "# plt.ylabel('imaginary axis')\n",
    "# plt.title('complex numbers for good output 1')\n",
    "# plt.show()\n",
    "\n",
    "\n",
    "# plt.scatter(df_ion.iloc[2][:34:2], df_ion.iloc[2][1:34:2], color=\"green\")\n",
    "# plt.xlabel('real axis')\n",
    "# plt.ylabel('imaginary axis')\n",
    "# plt.title('complex numbers for good output 2')\n",
    "# plt.show()\n",
    "\n",
    "# plt.scatter(df_ion.iloc[4][:34:2], df_ion.iloc[4][1:34:2], color=\"green\")\n",
    "# plt.xlabel('real axis')\n",
    "# plt.ylabel('imaginary axis')\n",
    "# plt.title('complex numbers for good output 3')\n",
    "# plt.show()\n"
   ]
  },
  {
   "cell_type": "code",
   "execution_count": null,
   "metadata": {},
   "outputs": [],
   "source": [
    "#plotting the values of some of the bad sets \n",
    "\n",
    "# plt.scatter(df_ion.iloc[1][:34:2], df_ion.iloc[0][1:34:2], color=\"red\")\n",
    "# plt.xlabel('real axis')\n",
    "# plt.ylabel('imaginary axis')\n",
    "# plt.title('complex numbers for bad output 1')\n",
    "# plt.show()\n",
    "\n",
    "\n",
    "# plt.scatter(df_ion.iloc[3][:34:2], df_ion.iloc[2][1:34:2], color=\"red\")\n",
    "# plt.xlabel('real axis')\n",
    "# plt.ylabel('imaginary axis')\n",
    "# plt.title('complex numbers for bad output 2')\n",
    "# plt.show()\n",
    "\n",
    "# plt.scatter(df_ion.iloc[5][:34:2], df_ion.iloc[4][1:34:2], color=\"red\")\n",
    "# plt.xlabel('real axis')\n",
    "# plt.ylabel('imaginary axis')\n",
    "# plt.title('complex numbers for bad output 3')\n",
    "# plt.show()"
   ]
  },
  {
   "cell_type": "code",
   "execution_count": null,
   "metadata": {},
   "outputs": [],
   "source": [
    "#Checking if features are correlated\n",
    "corr = df_ion.corr()\n",
    "sns.heatmap(corr)\n",
    "\n",
    "#No group of inputs are very correlated \n"
   ]
  },
  {
   "cell_type": "code",
   "execution_count": null,
   "metadata": {},
   "outputs": [],
   "source": [
    "print(df_ion['classification'].value_counts(normalize=True,dropna = True , ascending = True))"
   ]
  },
  {
   "cell_type": "code",
   "execution_count": null,
   "metadata": {},
   "outputs": [],
   "source": [
    "df_ion['classification'] = df_ion['classification'].apply(lambda x: 1 if (x=='g') else 0)"
   ]
  },
  {
   "cell_type": "code",
   "execution_count": null,
   "metadata": {},
   "outputs": [],
   "source": [
    "df_ion.head(10)"
   ]
  },
  {
   "cell_type": "markdown",
   "metadata": {},
   "source": [
    "<h2> BCW Dataset </h2>"
   ]
  },
  {
   "cell_type": "code",
   "execution_count": null,
   "metadata": {},
   "outputs": [],
   "source": [
    "# Reading dataset into a dataframe\n",
    "df_bcw = pd.read_csv('./BCW Data Set/breast-cancer-wisconsin.data', index_col = False, header=None, names=['id Number', 'Clump Thincknes', 'Uniformity of Cell Size', 'Uniformity of Cell Shape', 'Marginal Adhesion', 'Single Epithelial Cell Size', 'Bare Nuclei', 'Bland Chromatin', 'Normal Nucleoli','Mitoses', 'Class'])\n",
    "\n",
    "\n",
    "# Replacing the missing values with NaNs and finding missing values\n",
    "#df_bcw.replace('?', np.nan, inplace=True)\n",
    "\n",
    "#df_bcw = df_bcw.replace('?',np.nan)\n",
    "\n",
    "\n",
    "index = df_bcw['Bare Nuclei'].index[df_bcw['Bare Nuclei'].apply(lambda x : x == '?')]\n",
    "print(index)\n",
    "# print(df_bcw.shape)\n",
    "# df_bcw.drop(index, inplace=True, axis = 0)\n",
    "# print(df_bcw.shape)\n",
    "# df_bcw.head(50)\n",
    "\n",
    "#df_bcw.withColumn(\"Bare Nuclei\", df_bcw.order.cast(\"int\"))\n",
    "\n",
    "\n",
    "\n",
    "#dropping rows with missing values\n",
    "indexNames = df_bcw[ (df_bcw['Bare Nuclei'] == '?') ].index\n",
    "df_bcw.drop(indexNames , inplace=True)\n",
    "\n",
    "# Change type of column to float now that missing values are gone\n",
    "df_bcw =df_bcw.astype({'Bare Nuclei': int})\n",
    "\n",
    "\n",
    "df_bcw.dtypes\n",
    "\n",
    "#df_bcw.head(50)\n",
    "\n"
   ]
  },
  {
   "cell_type": "code",
   "execution_count": null,
   "metadata": {},
   "outputs": [],
   "source": [
    "#Id number is not clearly not relavant so it is dropped\n",
    "df_bcw.drop(['id Number'] , inplace=True, axis = 1)"
   ]
  },
  {
   "cell_type": "code",
   "execution_count": null,
   "metadata": {},
   "outputs": [],
   "source": [
    "df_bcw.describe()\n",
    "\n",
    "#makes sense"
   ]
  },
  {
   "cell_type": "code",
   "execution_count": null,
   "metadata": {},
   "outputs": [],
   "source": [
    "#check for correlations\n",
    "bcw_corr = df_bcw.corr()\n",
    "sns.heatmap(bcw_corr)"
   ]
  },
  {
   "cell_type": "code",
   "execution_count": null,
   "metadata": {},
   "outputs": [],
   "source": [
    "#Uniformity in cell size and uniformity in cell shape are clearly correlated \n",
    "#so one should be dropped \n",
    "df_bcw.drop(['Uniformity of Cell Size'] , inplace=True, axis = 1)"
   ]
  },
  {
   "cell_type": "code",
   "execution_count": null,
   "metadata": {},
   "outputs": [],
   "source": [
    "#2 if benign and 4 for malignant \n",
    "print(df_bcw.head(20))\n",
    "df_bcw['Class'] = df_bcw['Class'].apply(lambda x: 0 if (x == 2) else 1)\n",
    "#df_bcw['Class'] = df_bcw['Class'].apply(lambda x: print(type(x)))\n",
    "\n",
    "df_bcw.head(20)"
   ]
  },
  {
   "cell_type": "code",
   "execution_count": null,
   "metadata": {},
   "outputs": [],
   "source": [
    "df_bcw.head(10)"
   ]
  },
  {
   "cell_type": "code",
   "execution_count": null,
   "metadata": {},
   "outputs": [],
   "source": []
  },
  {
   "cell_type": "code",
   "execution_count": null,
   "metadata": {},
   "outputs": [],
   "source": []
  }
 ],
 "metadata": {
  "kernelspec": {
   "display_name": "Python 3",
   "language": "python",
   "name": "python3"
  },
  "language_info": {
   "codemirror_mode": {
    "name": "ipython",
    "version": 3
   },
   "file_extension": ".py",
   "mimetype": "text/x-python",
   "name": "python",
   "nbconvert_exporter": "python",
   "pygments_lexer": "ipython3",
   "version": "3.7.4"
  }
 },
 "nbformat": 4,
 "nbformat_minor": 2
}
