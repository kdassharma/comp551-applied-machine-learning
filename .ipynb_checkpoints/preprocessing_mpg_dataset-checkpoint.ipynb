{
 "cells": [
  {
   "cell_type": "code",
   "execution_count": null,
   "metadata": {},
   "outputs": [],
   "source": [
    "import pandas as pd\n",
    "import numpy as np\n",
    "import seaborn as sns\n",
    "import matplotlib\n",
    "import matplotlib.pyplot as plt\n",
    "import csv "
   ]
  },
  {
   "cell_type": "markdown",
   "metadata": {},
   "source": [
    "<h1>Subtasks for Data Set 3 (Auto MPG Data Set):</h1>"
   ]
  },
  {
   "cell_type": "markdown",
   "metadata": {},
   "source": [
    "<body>\n",
    "    <h2>Step One</h2>\n",
    "    \n",
    "    - First we must acquire, preprocess, and analyze the data\n",
    "</body>"
   ]
  },
  {
   "cell_type": "code",
   "execution_count": null,
   "metadata": {
    "scrolled": true
   },
   "outputs": [],
   "source": [
    "# Reading dataset into a dataframe\n",
    "DataFrame = pd.read_csv('./Auto MPG Data Set/auto-mpg.data', index_col = False, header=None, names=['mpg', 'cylinders', 'displacement', 'horsepower', 'weight', 'acceleration', 'model-year', 'origin', 'car-name'], delim_whitespace=True)\n",
    "\n",
    "# As we can see from the .names file, only horsepower has missing values - there are 6 such rows without it.\n",
    "# I've decided to remove these since horsepower is not categorical, and the instructions say: \"You should\n",
    "# remove any examples with missing or malformed features and note this in your report\".\n",
    "\n",
    "# Get names of indexes for which column horsepower has value '?'\n",
    "indexNames = DataFrame[ (DataFrame['horsepower'] == '?') ].index\n",
    "# Delete these row indexes from dataFrame\n",
    "DataFrame.drop(indexNames , inplace=True)\n",
    "# Change type of column to float now that missing values are gone\n",
    "DataFrame =DataFrame.astype({'horsepower': float})\n",
    "\n",
    "\n",
    "# However, now we see that car name is kind of a useless value as they all are different models.\n",
    "# We will just drop it\n",
    "DataFrame.drop(['car-name'] , inplace=True, axis = 1)\n",
    "\n",
    "# Now we display the first few rows, looks good!\n",
    "DataFrame.head(10)\n"
   ]
  },
  {
   "cell_type": "code",
   "execution_count": null,
   "metadata": {},
   "outputs": [],
   "source": [
    "# Lets take a look at the data\n",
    "DataFrame.describe()"
   ]
  },
  {
   "cell_type": "code",
   "execution_count": null,
   "metadata": {},
   "outputs": [],
   "source": [
    "# Looks good, However, since the goal is linear classification, we must transform the dependent varible(MPG) into\n",
    "# a binary choice. I will transform it into high(1) gas mileage or low(0) gas mileage, depending on whether it\n",
    "# is above or below the mean value of 23.44\n",
    "# this should be roughly a 50/50 split between positives and negatives\n",
    "DataFrame['mpg'] = DataFrame['mpg'].apply(lambda x: 1 if (x >= 23.445918) else 0)\n",
    "DataFrame['mpg'].describe()"
   ]
  },
  {
   "cell_type": "code",
   "execution_count": null,
   "metadata": {},
   "outputs": [],
   "source": [
    "# Perfect, the mean is .47 so there are slightly more negatives, but roughly 50/50\n",
    "# Now lets see if the features are correlated!"
   ]
  },
  {
   "cell_type": "code",
   "execution_count": null,
   "metadata": {},
   "outputs": [],
   "source": [
    "corr = DataFrame.corr()\n",
    "sns.heatmap(corr)"
   ]
  },
  {
   "cell_type": "code",
   "execution_count": null,
   "metadata": {},
   "outputs": [],
   "source": [
    "# yes, we can see cylinders, horsepower, displacement, and weight are all very correlated,\n",
    "# so I will drop 3 of the 4 since they are redundant (from my testing this greatly increased accuracy)\n",
    "DataFrame.drop(['cylinders', 'horsepower', 'displacement'] , inplace=True, axis = 1)\n",
    "DataFrame.head(10)"
   ]
  },
  {
   "cell_type": "code",
   "execution_count": null,
   "metadata": {},
   "outputs": [],
   "source": [
    "#now are data is clean and ready to use!"
   ]
  },
  {
   "cell_type": "code",
   "execution_count": null,
   "metadata": {},
   "outputs": [],
   "source": []
  },
  {
   "cell_type": "code",
   "execution_count": null,
   "metadata": {},
   "outputs": [],
   "source": []
  },
  {
   "cell_type": "code",
   "execution_count": null,
   "metadata": {},
   "outputs": [],
   "source": []
  }
 ],
 "metadata": {
  "kernelspec": {
   "display_name": "Python 3",
   "language": "python",
   "name": "python3"
  },
  "language_info": {
   "codemirror_mode": {
    "name": "ipython",
    "version": 3
   },
   "file_extension": ".py",
   "mimetype": "text/x-python",
   "name": "python",
   "nbconvert_exporter": "python",
   "pygments_lexer": "ipython3",
   "version": "3.7.4"
  }
 },
 "nbformat": 4,
 "nbformat_minor": 2
}
