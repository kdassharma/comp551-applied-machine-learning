{
 "cells": [
  {
   "cell_type": "markdown",
   "metadata": {},
   "source": [
    "<h2> BCW Dataset </h2>"
   ]
  },
  {
   "cell_type": "code",
   "execution_count": null,
   "metadata": {},
   "outputs": [],
   "source": [
    "import pandas as pd\n",
    "import numpy as np\n",
    "import matplotlib\n",
    "import matplotlib.pyplot as plt\n",
    "import seaborn as sns\n",
    "import csv \n",
    "from collections import defaultdict\n",
    "import re"
   ]
  },
  {
   "cell_type": "code",
   "execution_count": null,
   "metadata": {},
   "outputs": [],
   "source": [
    "# Reading dataset into a dataframe\n",
    "df_bcw = pd.read_csv('./BCW Data Set/breast-cancer-wisconsin.data', index_col = False, header=None, names=['id Number', 'Clump Thincknes', 'Uniformity of Cell Size', 'Uniformity of Cell Shape', 'Marginal Adhesion', 'Single Epithelial Cell Size', 'Bare Nuclei', 'Bland Chromatin', 'Normal Nucleoli','Mitoses', 'Class'])\n",
    "\n",
    "#storing all of the index values that contain a '?' meaning there is missing data in such column \n",
    "index = df_bcw['Bare Nuclei'].index[df_bcw['Bare Nuclei'].apply(lambda x : x == '?')]\n",
    "\n",
    "#Dropping all rows with missing values\n",
    "df_bcw.drop(index , inplace=True)\n",
    "\n",
    "# Change type of column to int now that missing values are gone\n",
    "df_bcw =df_bcw.astype({'Bare Nuclei': int})\n",
    "\n",
    "#A look at the data\n",
    "df_bcw.head(10)\n"
   ]
  },
  {
   "cell_type": "code",
   "execution_count": null,
   "metadata": {},
   "outputs": [],
   "source": [
    "#Id number is not clearly not relavant in classification so it is dropped\n",
    "df_bcw.drop(['id Number'] , inplace=True, axis = 1)"
   ]
  },
  {
   "cell_type": "code",
   "execution_count": null,
   "metadata": {},
   "outputs": [],
   "source": [
    "#Analaysing the data\n",
    "df_bcw.describe()"
   ]
  },
  {
   "cell_type": "code",
   "execution_count": null,
   "metadata": {},
   "outputs": [],
   "source": [
    "#check for correlations\n",
    "bcw_corr = df_bcw.corr()\n",
    "sns.heatmap(bcw_corr)"
   ]
  },
  {
   "cell_type": "code",
   "execution_count": null,
   "metadata": {},
   "outputs": [],
   "source": [
    "#Uniformity in cell size and uniformity in cell shape are clearly correlated \n",
    "#so one should be dropped \n",
    "df_bcw.drop(['Uniformity of Cell Size'] , inplace=True, axis = 1)"
   ]
  },
  {
   "cell_type": "code",
   "execution_count": null,
   "metadata": {},
   "outputs": [],
   "source": [
    "#changing the lables of 2 representing benign to 0 and 4 representing malignant to 1\n",
    "df_bcw['Class'] = df_bcw['Class'].apply(lambda x: 0 if (x == 2) else 1)"
   ]
  },
  {
   "cell_type": "code",
   "execution_count": null,
   "metadata": {},
   "outputs": [],
   "source": [
    "#last look at the data\n",
    "df_bcw.head(10)"
   ]
  }
 ],
 "metadata": {
  "kernelspec": {
   "display_name": "Python 3",
   "language": "python",
   "name": "python3"
  },
  "language_info": {
   "codemirror_mode": {
    "name": "ipython",
    "version": 3
   },
   "file_extension": ".py",
   "mimetype": "text/x-python",
   "name": "python",
   "nbconvert_exporter": "python",
   "pygments_lexer": "ipython3",
   "version": "3.7.4"
  }
 },
 "nbformat": 4,
 "nbformat_minor": 2
}
