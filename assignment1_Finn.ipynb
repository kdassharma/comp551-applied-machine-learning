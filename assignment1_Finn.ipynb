{
 "cells": [
  {
   "cell_type": "code",
   "execution_count": null,
   "metadata": {},
   "outputs": [],
   "source": [
    "import pandas as pd\n",
    "import numpy as np\n",
    "import seaborn as sns\n",
    "import matplotlib\n",
    "import matplotlib.pyplot as plt\n",
    "import csv "
   ]
  },
  {
   "cell_type": "markdown",
   "metadata": {},
   "source": [
    "<h1>Subtasks for Data Set 3 (Auto MPG Data Set):</h1>"
   ]
  },
  {
   "cell_type": "markdown",
   "metadata": {},
   "source": [
    "<body>\n",
    "    <h2>Step One</h2>\n",
    "    \n",
    "    - First we must acquire, preprocess, and analyze the data\n",
    "</body>"
   ]
  },
  {
   "cell_type": "code",
   "execution_count": null,
   "metadata": {},
   "outputs": [],
   "source": [
    "# Reading dataset into a dataframe\n",
    "DataFrame = pd.read_csv('./Auto MPG Data Set/auto-mpg.data', index_col = False, header=None, names=['mpg', 'cylinders', 'displacement', 'horsepower', 'weight', 'acceleration', 'model-year', 'origin', 'car-name'], delim_whitespace=True)\n",
    "\n",
    "# As we can see from the .names file, only horsepower has missing values - there are 6 such rows without it.\n",
    "# I've decided to remove these since horsepower is not categorical, and the instructions say: \"You should\n",
    "# remove any examples with missing or malformed features and note this in your report\".\n",
    "\n",
    "# Get names of indexes for which column horsepower has value '?'\n",
    "indexNames = DataFrame[ (DataFrame['horsepower'] == '?') ].index\n",
    "# Delete these row indexes from dataFrame\n",
    "DataFrame.drop(indexNames , inplace=True)\n",
    "# Change type of column to float now that missing values are gone\n",
    "DataFrame =DataFrame.astype({'horsepower': float})\n",
    "\n",
    "\n",
    "# However, now we see that car name is kind of a useless value as they all are different models.\n",
    "# We will parse it so it is only the car brand, making it a multi-valued discrete feature\n",
    "DataFrame['car-name'] = DataFrame['car-name'].apply(lambda x: x.split()[0])\n",
    "\n",
    "\n",
    "# Now we display the first few rows, looks good!\n",
    "DataFrame.head(10)\n"
   ]
  },
  {
   "cell_type": "code",
   "execution_count": null,
   "metadata": {},
   "outputs": [],
   "source": [
    "#Our data is clean and ready to use! Let's analyze it a bit\n",
    "DataFrame.describe()"
   ]
  },
  {
   "cell_type": "code",
   "execution_count": null,
   "metadata": {},
   "outputs": [],
   "source": [
    "# An interesting observation, displacement is not very nicely distributed (also what is it??)\n",
    "# Also, this leaves out the car name, I'm curious what the most popular brand is and what not (ford)\n",
    "DataFrame[\"car-name\"].describe()\n"
   ]
  },
  {
   "cell_type": "code",
   "execution_count": null,
   "metadata": {},
   "outputs": [],
   "source": [
    "# Now lets look at some graphs, I'm curious how some of the feautures plot against MPG\n",
    "# First lets plot the continuos variables, they all have pretty clear trends, although acceleration\n",
    "# is slightly less clear\n",
    "# From a quick glance, these might be logistic rather than linear realtions\n",
    "DataFrame.plot(kind='scatter',x='displacement',y='mpg',color='red')\n",
    "DataFrame.plot(kind='scatter',x='horsepower',y='mpg',color='blue')\n",
    "DataFrame.plot(kind='scatter',x='displacement',y='mpg',color='green')\n",
    "DataFrame.plot(kind='scatter',x='weight',y='mpg',color='orange')\n",
    "DataFrame.plot(kind='scatter',x='acceleration',y='mpg',color='cyan')\n",
    "plt.show()\n",
    "\n"
   ]
  },
  {
   "cell_type": "code",
   "execution_count": null,
   "metadata": {},
   "outputs": [],
   "source": [
    "# Now I would like to look at the discrete variables\n",
    "DataFrame.plot(kind='scatter',x='cylinders',y='mpg',color='red')\n",
    "DataFrame.plot(kind='scatter',x='model-year',y='mpg',color='blue')\n",
    "DataFrame.plot(kind='scatter',x='origin',y='mpg',color='orange')\n",
    "DataFrame.plot(kind='scatter',x='car-name',y='mpg',color='green',figsize=(12,4))\n",
    "plt.xticks(rotation=90)\n",
    "plt.show()"
   ]
  },
  {
   "cell_type": "code",
   "execution_count": null,
   "metadata": {},
   "outputs": [],
   "source": [
    "# Finally, since the goal is linear classification, we must transform the dependent varible(MPG) into\n",
    "# a binary choice. I will transform it into high(1) gas mileage or low(0) gas mileage, depending on whether it\n",
    "# is above or below the mean value of 23.44\n",
    "DataFrame['mpg'] = DataFrame['mpg'].apply(lambda x: 1 if (x >= 23.445918) else 0)\n",
    "# As is shows below, the mean is very close to 0.5, so there is a realtively even split between low an high gas\n",
    "# mileage\n",
    "DataFrame['mpg'].describe()"
   ]
  },
  {
   "cell_type": "markdown",
   "metadata": {},
   "source": []
  },
  {
   "cell_type": "code",
   "execution_count": null,
   "metadata": {},
   "outputs": [],
   "source": [
    "# lets see if the features are correlated"
   ]
  },
  {
   "cell_type": "code",
   "execution_count": null,
   "metadata": {},
   "outputs": [],
   "source": [
    "corr = DataFrame.corr()\n",
    "sns.heatmap(corr)"
   ]
  },
  {
   "cell_type": "code",
   "execution_count": null,
   "metadata": {},
   "outputs": [],
   "source": []
  },
  {
   "cell_type": "code",
   "execution_count": null,
   "metadata": {},
   "outputs": [],
   "source": []
  }
 ],
 "metadata": {
  "kernelspec": {
   "display_name": "Python 3",
   "language": "python",
   "name": "python3"
  },
  "language_info": {
   "codemirror_mode": {
    "name": "ipython",
    "version": 3
   },
   "file_extension": ".py",
   "mimetype": "text/x-python",
   "name": "python",
   "nbconvert_exporter": "python",
   "pygments_lexer": "ipython3",
   "version": "3.8.1"
  }
 },
 "nbformat": 4,
 "nbformat_minor": 2
}
