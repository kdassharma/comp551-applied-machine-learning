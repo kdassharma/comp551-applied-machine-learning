{
 "cells": [
  {
   "cell_type": "code",
   "execution_count": null,
   "metadata": {},
   "outputs": [],
   "source": [
    "import pandas as pd\n",
    "import numpy as np\n",
    "import csv \n",
    "import seaborn as sns"
   ]
  },
  {
   "cell_type": "markdown",
   "metadata": {},
   "source": [
    "## Subtasks for Data Set 2 (Adult Data Set):\n"
   ]
  },
  {
   "cell_type": "code",
   "execution_count": null,
   "metadata": {
    "scrolled": false
   },
   "outputs": [],
   "source": [
    "# Reading dataset and printing missing value information\n",
    "\n",
    "df = pd.read_csv('./Adult Data Set/adult.data', index_col = False, header=None, names=['age', 'workclass', 'fnlwgt', 'education', 'education-num', 'marital-status', 'occupation', 'relationship', 'race', 'sex', 'capital-gain', 'capital-loss', 'hours-per-week', 'native-country','salary'])\n",
    "\n",
    "# Dropping education column as education-num is representative of the same thing\n",
    "df.drop(['education'], axis = 1,inplace=True)\n",
    "\n",
    "# The continuous variable fnlwgt represents final weight, which is the number of \n",
    "# units in the target population that the responding unit represents. Irrelevant as \n",
    "# a feature, and hence being dropped.\n",
    "# df.drop(['fnlwgt'], axis = 1, inplace=True)\n",
    "df.drop(['workclass'], axis = 1, inplace=True)\n",
    "df.drop(['marital-status'], axis = 1, inplace=True)\n",
    "df.drop(['occupation'], axis = 1, inplace=True)\n",
    "df.drop(['relationship'], axis = 1, inplace=True)\n",
    "df.drop(['race'], axis = 1, inplace=True)\n",
    "df.drop(['sex'], axis = 1, inplace=True)\n",
    "df.drop(['native-country'], axis = 1, inplace=True)\n",
    "\n",
    "df['salary'] = df['salary'].apply(lambda x: 0 if (x == ' <=50K' ) else 1)\n",
    "# Replacing the missing values with NaNs and finding missing values\n",
    "df.replace(' ?', np.nan, inplace=True)\n",
    "#missing_values_table(df)\n",
    "print(\"-----\")\n",
    "\n",
    "# Replacing missing values with most frequent value in that column\n",
    "#df = df.apply(lambda x:x.fillna(x.value_counts().index[0]))\n",
    "df = df.apply(lambda x: x.fillna(x.mean()), axis=0)\n",
    "print(\"-----\")\n",
    "\n",
    "\n",
    "# Finding the distribution of the positive and negative classes and numerial features \n",
    "# print(df['salary'].value_counts(normalize=True,dropna=True,ascending=True))\n",
    "# print(\"-----\")\n",
    "# print(df['age'].value_counts(normalize=True,dropna=True,ascending=True))\n",
    "# print(\"-----\")\n",
    "# print(df['education-num'].value_counts(normalize=True,dropna=True,ascending=True))\n",
    "# print(\"-----\")\n",
    "# print(df['capital-gain'].value_counts(normalize=True,dropna=True,ascending=True))\n",
    "# print(\"-----\")\n",
    "# print(df['capital-loss'].value_counts(normalize=True,dropna=True,ascending=True))\n",
    "# print(\"-----\")\n",
    "# print(df['hours-per-week'].value_counts(normalize=True,dropna=True,ascending=True))\n",
    "# print(\"-----\")\n",
    "\n",
    "# print(df.describe())\n",
    "# Dropping these features because data is malformed\n",
    "df.drop(['capital-gain'], axis = 1, inplace=True)\n",
    "df.drop(['capital-loss'], axis = 1, inplace=True)\n",
    "\n",
    "df.head(10)\n",
    "# One hot encoding using pandas get_dummies and then dropping \n",
    "# one category for each categorial feature to preserve linear dependency (https://datascience.stackexchange.com/questions/27957/why-do-we-need-to-discard-one-dummy-variable/27993#27993)\n",
    "\n",
    "# df['workclass'] = df['workclass'].astype('category')\n",
    "# df['marital-status'] = df['marital-status'].astype('category')\n",
    "# df['occupation'] = df['occupation'].astype('category')\n",
    "# df['relationship'] = df['relationship'].astype('category')\n",
    "# df['race'] = df['race'].astype('category')\n",
    "# df['sex'] = df['sex'].astype('category')\n",
    "# df['native-country'] = df['native-country'].astype('category')\n",
    "# df = pd.get_dummies(df , drop_first= True)\n",
    "\n",
    "# Plotting the correlation between features\n",
    "corr = df.corr()\n",
    "sns.heatmap(corr)\n",
    "print(\"-----\")"
   ]
  },
  {
   "cell_type": "code",
   "execution_count": null,
   "metadata": {},
   "outputs": [],
   "source": [
    "def missing_values_table(df):\n",
    "   \n",
    "    # Total missing values\n",
    "    mis_val = df.isnull().sum()\n",
    "    \n",
    "    # Percentage of missing values\n",
    "    mis_val_percent = 100 * df.isnull().sum() / len(df)\n",
    "    \n",
    "    # Make a table with the results\n",
    "    mis_val_table = pd.concat([mis_val, mis_val_percent], axis=1)\n",
    "    \n",
    "    # Rename the columns\n",
    "    mis_val_table_ren_columns = mis_val_table.rename(\n",
    "    columns = {0 : 'Missing Values', 1 : '% of Total Values'})\n",
    "    \n",
    "    # Sort the table by percentage of missing descending\n",
    "    # .iloc[:, 1]!= 0: filter on missing missing values not equal to zero\n",
    "    mis_val_table_ren_columns = mis_val_table_ren_columns[\n",
    "        mis_val_table_ren_columns.iloc[:,1] != 0].sort_values(\n",
    "    '% of Total Values', ascending=False).round(2)  # round(2), keep 2 digits\n",
    "    \n",
    "    # Print some summary information\n",
    "    print(\"Your selected dataframe has {} columns.\".format(df.shape[1]) + '\\n' + \n",
    "    \"There are {} columns that have missing values.\".format(mis_val_table_ren_columns.shape[0]))\n",
    "    \n",
    "    # Return the dataframe with missing information\n",
    "    return mis_val_table_ren_columns"
   ]
  },
  {
   "cell_type": "code",
   "execution_count": null,
   "metadata": {},
   "outputs": [],
   "source": []
  },
  {
   "cell_type": "markdown",
   "metadata": {},
   "source": []
  }
 ],
 "metadata": {
  "kernelspec": {
   "display_name": "Python 3",
   "language": "python",
   "name": "python3"
  },
  "language_info": {
   "codemirror_mode": {
    "name": "ipython",
    "version": 3
   },
   "file_extension": ".py",
   "mimetype": "text/x-python",
   "name": "python",
   "nbconvert_exporter": "python",
   "pygments_lexer": "ipython3",
   "version": "3.7.3"
  }
 },
 "nbformat": 4,
 "nbformat_minor": 2
}
