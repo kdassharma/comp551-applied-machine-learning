{
 "cells": [
  {
   "cell_type": "code",
   "execution_count": null,
   "metadata": {},
   "outputs": [],
   "source": [
    "import pandas as pd\n",
    "import numpy as np\n",
    "import matplotlib\n",
    "import matplotlib.pyplot as plt\n",
    "import csv "
   ]
  },
  {
   "cell_type": "markdown",
   "metadata": {},
   "source": [
    "## Subtasks for Data Set 2 (Adult Data Set):\n"
   ]
  },
  {
   "cell_type": "code",
   "execution_count": null,
   "metadata": {},
   "outputs": [],
   "source": [
    "# Reading dataset and printing missing value information\n",
    "\n",
    "df = pd.read_csv('./Adult Data Set/adult.data', index_col = False, header=None, names=['age', 'workclass', 'fnlwgt', 'education', 'education-num', 'marital-status', 'occupation', 'relationship', 'race', 'sex', 'capital-gain', 'capital-loss', 'hours-per-week', 'native-country'])\n",
    "df.replace(' ?', np.nan, inplace=True)\n",
    "missing_values_table(df)\n",
    "\n",
    "# To handle null values (https://stats.stackexchange.com/questions/228622/handling-null-value-in-logistic-regression)\n",
    "\n",
    "\n",
    "# One hot encoding using pandas get_dummies and then dropping \n",
    "# one category for each categorial feature to preserve linear dependency (https://datascience.stackexchange.com/questions/27957/why-do-we-need-to-discard-one-dummy-variable/27993#27993)\n",
    "\n",
    "df['workclass'] = df['workclass'].astype('category')\n",
    "df['education'] = df['education'].astype('category')\n",
    "df['marital-status'] = df['marital-status'].astype('category')\n",
    "df['occupation'] = df['occupation'].astype('category')\n",
    "df['relationship'] = df['relationship'].astype('category')\n",
    "df['race'] = df['race'].astype('category')\n",
    "df['sex'] = df['sex'].astype('category')\n",
    "df['native-country'] = df['native-country'].astype('category')\n",
    "df = pd.get_dummies(df , drop_first= True)\n",
    "\n",
    "df.head(50)"
   ]
  },
  {
   "cell_type": "code",
   "execution_count": null,
   "metadata": {},
   "outputs": [],
   "source": [
    "def missing_values_table(df):\n",
    "   \n",
    "    # Total missing values\n",
    "    mis_val = df.isnull().sum()\n",
    "    \n",
    "    # Percentage of missing values\n",
    "    mis_val_percent = 100 * df.isnull().sum() / len(df)\n",
    "    \n",
    "    # Make a table with the results\n",
    "    mis_val_table = pd.concat([mis_val, mis_val_percent], axis=1)\n",
    "    \n",
    "    # Rename the columns\n",
    "    mis_val_table_ren_columns = mis_val_table.rename(\n",
    "    columns = {0 : 'Missing Values', 1 : '% of Total Values'})\n",
    "    \n",
    "    # Sort the table by percentage of missing descending\n",
    "    # .iloc[:, 1]!= 0: filter on missing missing values not equal to zero\n",
    "    mis_val_table_ren_columns = mis_val_table_ren_columns[\n",
    "        mis_val_table_ren_columns.iloc[:,1] != 0].sort_values(\n",
    "    '% of Total Values', ascending=False).round(2)  # round(2), keep 2 digits\n",
    "    \n",
    "    # Print some summary information\n",
    "    print(\"Your selected dataframe has {} columns.\".format(df.shape[1]) + '\\n' + \n",
    "    \"There are {} columns that have missing values.\".format(mis_val_table_ren_columns.shape[0]))\n",
    "    \n",
    "    # Return the dataframe with missing information\n",
    "    return mis_val_table_ren_columns"
   ]
  },
  {
   "cell_type": "markdown",
   "metadata": {},
   "source": [
    "<h2>Subtasks for Data Set 3 (Finn's Data Set BABY):</h2>"
   ]
  },
  {
   "cell_type": "markdown",
   "metadata": {},
   "source": [
    "<body>\n",
    "    <h3>Step One</h3>\n",
    "    \n",
    "    - First we must acquire, preprocess, and analyze the data\n",
    "</body>"
   ]
  },
  {
   "cell_type": "code",
   "execution_count": null,
   "metadata": {
    "scrolled": false
   },
   "outputs": [],
   "source": [
    "# Reading dataset into a dataframe\n",
    "DataFrame = pd.read_csv('./Auto MPG Data Set/auto-mpg.data', index_col = False, header=None, names=['mpg', 'cylinders', 'displacement', 'horsepower', 'weight', 'acceleration', 'model-year', 'origin', 'car-name'], delim_whitespace=True)\n",
    "\n",
    "# As we can see from the .names file, only horsepower has missing values - there are 6 such rows without it.\n",
    "# I've decided to remove these since horsepower is not categorical, and the instructions say: \"You should\n",
    "# remove any examples with missing or malformed features and note this in your report\".\n",
    "\n",
    "# Get names of indexes for which column horsepower has value '?'\n",
    "indexNames = DataFrame[ (DataFrame['horsepower'] == '?') ].index\n",
    "# Delete these row indexes from dataFrame\n",
    "DataFrame.drop(indexNames , inplace=True)\n",
    "# Change type of column to float now that missing values are gone\n",
    "DataFrame =DataFrame.astype({'horsepower': float})\n",
    "\n",
    "\n",
    "# However, now we see that car name is kind of a useless value as they all are different models.\n",
    "# We will parse it so it is only the car brand, making it a multi-valued discrete feature\n",
    "DataFrame['car-name'] = DataFrame['car-name'].apply(lambda x: x.split()[0])\n",
    "\n",
    "\n",
    "# Now we display the first few rows, looks good!\n",
    "DataFrame.head(10)\n"
   ]
  },
  {
   "cell_type": "code",
   "execution_count": null,
   "metadata": {},
   "outputs": [],
   "source": [
    "#Our data is clean and ready to use! Let's analyze it a bit\n",
    "DataFrame.describe()"
   ]
  },
  {
   "cell_type": "code",
   "execution_count": null,
   "metadata": {},
   "outputs": [],
   "source": [
    "# An interesting observation, displacement is not very nicely distributed (also what is it??)\n",
    "#Also, this leaves out the car name, I'm curious what the most popular brand is and what not (ford)\n",
    "DataFrame[\"car-name\"].describe()"
   ]
  },
  {
   "cell_type": "code",
   "execution_count": null,
   "metadata": {},
   "outputs": [],
   "source": [
    "# Now lets look at some graphs, I'm curious how some of the feautures plot against MPG\n",
    "# First lets plot the continuos variables, they all have pretty clear trends, although acceleration\n",
    "# is slightly less clear\n",
    "DataFrame.plot(kind='scatter',x='displacement',y='mpg',color='red')\n",
    "DataFrame.plot(kind='scatter',x='horsepower',y='mpg',color='blue')\n",
    "DataFrame.plot(kind='scatter',x='displacement',y='mpg',color='green')\n",
    "DataFrame.plot(kind='scatter',x='weight',y='mpg',color='orange')\n",
    "DataFrame.plot(kind='scatter',x='acceleration',y='mpg',color='cyan')\n",
    "plt.show()\n",
    "\n"
   ]
  },
  {
   "cell_type": "code",
   "execution_count": null,
   "metadata": {},
   "outputs": [],
   "source": [
    "# Now I would like to look at the discrete variables\n",
    "DataFrame.plot(kind='scatter',x='cylinders',y='mpg',color='red')\n",
    "DataFrame.plot(kind='scatter',x='model-year',y='mpg',color='blue')\n",
    "DataFrame.plot(kind='scatter',x='origin',y='mpg',color='orange')\n",
    "DataFrame.plot(kind='scatter',x='car-name',y='mpg',color='green')\n",
    "plt.show()"
   ]
  },
  {
   "cell_type": "code",
   "execution_count": null,
   "metadata": {},
   "outputs": [],
   "source": []
  }
 ],
 "metadata": {
  "kernelspec": {
   "display_name": "Python 3",
   "language": "python",
   "name": "python3"
  },
  "language_info": {
   "codemirror_mode": {
    "name": "ipython",
    "version": 3
   },
   "file_extension": ".py",
   "mimetype": "text/x-python",
   "name": "python",
   "nbconvert_exporter": "python",
   "pygments_lexer": "ipython3",
   "version": "3.8.1"
  }
 },
 "nbformat": 4,
 "nbformat_minor": 2
}
