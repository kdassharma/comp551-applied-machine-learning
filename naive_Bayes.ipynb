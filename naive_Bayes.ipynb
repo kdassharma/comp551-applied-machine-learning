{
 "cells": [
  {
   "cell_type": "code",
   "execution_count": null,
   "metadata": {},
   "outputs": [],
   "source": [
    "import pandas as pd\n",
    "import numpy as np\n",
    "from sklearn.model_selection import train_test_split\n",
    "%run assignment1_Finn.ipynb"
   ]
  },
  {
   "cell_type": "code",
   "execution_count": null,
   "metadata": {},
   "outputs": [],
   "source": [
    "DataFrame.head(10)"
   ]
  },
  {
   "cell_type": "code",
   "execution_count": null,
   "metadata": {},
   "outputs": [],
   "source": [
    "class GaussianNaiveBayes:\n",
    "\n",
    "    def fit(self, X, y):\n",
    "        # gets classes, then # of classes\n",
    "        self.targets = np.unique(y)\n",
    "        targets_count = len(self.targets)\n",
    "        # gets number of samples, number of features\n",
    "        samples_count, features_count = X.shape\n",
    "        \n",
    "        #init mean, std, priors\n",
    "        self.mean = np.zeros((targets_count, features_count))\n",
    "        self.std = np.zeros((targets_count, features_count))\n",
    "        self.priors = np.zeros((targets_count))\n",
    "        \n",
    "        #for each class\n",
    "        for t in self.targets:\n",
    "            samples_of_class = X[t==y]\n",
    "            #fills the row of the class, all columns, fills with mean\n",
    "            self.mean[t,:] = samples_of_class.mean(axis=0)\n",
    "            #fills the row of the class, all columns, fills with variance\n",
    "            self.std[t,:] = samples_of_class.std(axis=0)\n",
    "            #fills the row of the class, get # of samples with label c / total samples\n",
    "            self.priors[t] = samples_of_class.shape[0] / (samples_count)\n",
    "\n",
    "    def predict(self, X):\n",
    "        # predicts for each x in X, returns it\n",
    "        predictions = [self.predict_individual(x) for x in X]\n",
    "        return predictions\n",
    "    \n",
    "    def predict_individual(self, x):\n",
    "        # this is where we will store the prob of each target\n",
    "        target_probs = []\n",
    "\n",
    "        # calculate probability for each target, given x\n",
    "        for i, t in enumerate(self.targets):\n",
    "            # weve already calculated this, put it in a log function\n",
    "            prior = np.log(self.priors[i])\n",
    "            # call helper to apply log to all probabilities and add them together\n",
    "            posterior = prior + np.sum(np.log(self.prob_function(i, x)))\n",
    "            #add it to the array, this is the prob that with the given characterics we will get this class\n",
    "            target_probs.append(posterior)\n",
    "            \n",
    "        # return most likely target\n",
    "        return self.targets[np.argmax(target_probs)]\n",
    "    \n",
    "    # helper to do the complicated function for naive bayes from class\n",
    "    def prob_function(self, i, x):\n",
    "        return (np.exp(- (x-self.mean[i])**2 / (2 * (self.std[i]**2)))) / (np.sqrt(2 * np.pi * (self.std[i]**2)))\n",
    "    \n",
    "    # this calculates how many we got right\n",
    "    def evaluate_acc(self, true_y, target_y):\n",
    "        return (np.sum(true_y == target_y) / len(true_y))\n",
    "\n"
   ]
  },
  {
   "cell_type": "code",
   "execution_count": null,
   "metadata": {
    "scrolled": true
   },
   "outputs": [],
   "source": [
    "def kFoldCrossVal(k, X, y):\n",
    "    accuracy = 0\n",
    "    model = GaussianNaiveBayes()\n",
    "    size = (int)(len(y)/k)\n",
    "    for i in range(k):\n",
    "        train_x = X[np.r_[0:size*i, size*(i+1):]]\n",
    "        train_y = y[np.r_[0:size*i, size*(i+1):]]\n",
    "        test_x = X[(i*size):size*(i+1)]\n",
    "        test_y = y[(i*size):size*(i+1)]\n",
    "        \n",
    "        model.fit(train_x, train_y)\n",
    "        predictions = model.predict(test_x)\n",
    "        run_accuracy = model.evaluate_acc(test_y, predictions)\n",
    "        accuracy = accuracy + run_accuracy\n",
    "\n",
    "    return accuracy / k\n",
    "\n",
    "features = DataFrame.drop(['mpg'] , axis=1)\n",
    "X = features.values\n",
    "output = DataFrame['mpg']\n",
    "Y = output.values\n",
    "\n",
    "\n",
    "kFoldCrossVal(5, X, Y)"
   ]
  },
  {
   "cell_type": "code",
   "execution_count": null,
   "metadata": {},
   "outputs": [],
   "source": []
  }
 ],
 "metadata": {
  "kernelspec": {
   "display_name": "Python 3",
   "language": "python",
   "name": "python3"
  },
  "language_info": {
   "codemirror_mode": {
    "name": "ipython",
    "version": 3
   },
   "file_extension": ".py",
   "mimetype": "text/x-python",
   "name": "python",
   "nbconvert_exporter": "python",
   "pygments_lexer": "ipython3",
   "version": "3.8.1"
  }
 },
 "nbformat": 4,
 "nbformat_minor": 4
}
